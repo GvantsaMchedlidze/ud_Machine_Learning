{
 "cells": [
  {
   "cell_type": "markdown",
   "metadata": {},
   "source": [
    "# Enron"
   ]
  },
  {
   "cell_type": "markdown",
   "metadata": {},
   "source": [
    "Enron Corporation was an American energy, commodities, and services company based in Houston, Texas. It was founded in 1985 because of a merger between Houston Natural Gas and InterNorth, both relatively small regional companies. Before its bankruptcy on December 2, 2001, Enron employed approximately 20,000 staff and was one of the world's major electricity, natural gas, communications and pulp and paper companies, with claimed revenues of nearly $101 billion during 2000. Fortune named Enron \"America's Most Innovative Company\" for six consecutive years."
   ]
  },
  {
   "cell_type": "markdown",
   "metadata": {},
   "source": [
    "In this project, will be built an algorithm to identify Enron Employees who may have committed fraud based on the public Enron financial and email dataset."
   ]
  },
  {
   "cell_type": "code",
   "execution_count": 1,
   "metadata": {
    "collapsed": false
   },
   "outputs": [
    {
     "name": "stderr",
     "output_type": "stream",
     "text": [
      "C:\\Users\\Pro-Pc\\Anaconda3\\envs\\py2\\lib\\site-packages\\sklearn\\cross_validation.py:41: DeprecationWarning: This module was deprecated in version 0.18 in favor of the model_selection module into which all the refactored classes and functions are moved. Also note that the interface of the new CV iterators are different from that of this module. This module will be removed in 0.20.\n",
      "  \"This module will be removed in 0.20.\", DeprecationWarning)\n"
     ]
    }
   ],
   "source": [
    "import sys\n",
    "import pickle\n",
    "import matplotlib.pyplot\n",
    "sys.path.append(\"../tools/\")\n",
    "import numpy as np \n",
    "from feature_format import featureFormat, targetFeatureSplit\n",
    "from tester import dump_classifier_and_data\n",
    "\n",
    "## Load the dictionary containing the dataset\n",
    "\n",
    "with open(\"final_project_dataset.pkl\", \"r\") as data_file:\n",
    "    data_dict = pickle.load(data_file)\n"
   ]
  },
  {
   "cell_type": "markdown",
   "metadata": {},
   "source": [
    "Dataset contains information about 146 persons with 21 features for each person and 18 POIs form 35 in total. "
   ]
  },
  {
   "cell_type": "code",
   "execution_count": 2,
   "metadata": {
    "collapsed": false
   },
   "outputs": [
    {
     "name": "stdout",
     "output_type": "stream",
     "text": [
      "{'METTS MARK': 21, 'BAXTER JOHN C': 21, 'ELLIOTT STEVEN': 21, 'CORDES WILLIAM R': 21, 'HANNON KEVIN P': 21, 'MORDAUNT KRISTINA M': 21, 'MEYER ROCKFORD G': 21, 'MCMAHON JEFFREY': 21, 'HAEDICKE MARK E': 21, 'PIPER GREGORY F': 21, 'HUMPHREY GENE E': 21, 'NOLES JAMES L': 21, 'BLACHMAN JEREMY M': 21, 'SUNDE MARTIN': 21, 'GIBBS DANA R': 21, 'LOWRY CHARLES P': 21, 'COLWELL WESLEY': 21, 'MULLER MARK S': 21, 'JACKSON CHARLENE R': 21, 'WESTFAHL RICHARD K': 21, 'WALTERS GARETH W': 21, 'WALLS JR ROBERT H': 21, 'KITCHEN LOUISE': 21, 'CHAN RONNIE': 21, 'BELFER ROBERT': 21, 'SHANKMAN JEFFREY A': 21, 'WODRASKA JOHN': 21, 'BERGSIEKER RICHARD P': 21, 'URQUHART JOHN A': 21, 'BIBI PHILIPPE A': 21, 'RIEKER PAULA H': 21, 'WHALEY DAVID A': 21, 'BECK SALLY W': 21, 'HAUG DAVID L': 21, 'ECHOLS JOHN B': 21, 'MENDELSOHN JOHN': 21, 'HICKERSON GARY J': 21, 'CLINE KENNETH W': 21, 'LEWIS RICHARD': 21, 'HAYES ROBERT E': 21, 'KOPPER MICHAEL J': 21, 'LEFF DANIEL P': 21, 'LAVORATO JOHN J': 21, 'BERBERIAN DAVID': 21, 'DETMERING TIMOTHY J': 21, 'WAKEHAM JOHN': 21, 'POWERS WILLIAM': 21, 'GOLD JOSEPH': 21, 'BANNANTINE JAMES M': 21, 'DUNCAN JOHN H': 21, 'SHAPIRO RICHARD S': 21, 'SHERRIFF JOHN R': 21, 'SHELBY REX': 21, 'LEMAISTRE CHARLES': 21, 'DEFFNER JOSEPH M': 21, 'KISHKILL JOSEPH G': 21, 'WHALLEY LAWRENCE G': 21, 'PIRO JIM': 21, 'MCCONNELL MICHAEL S': 21, 'DELAINEY DAVID W': 21, 'SULLIVAN-SHAKLOVITZ COLLEEN': 21, 'WROBEL BRUCE': 21, 'LINDHOLM TOD A': 21, 'MEYER JEROME J': 21, 'LAY KENNETH L': 21, 'BUTTS ROBERT H': 21, 'OLSON CINDY K': 21, 'MCDONALD REBECCA': 21, 'CUMBERLAND MICHAEL S': 21, 'GAHN ROBERT S': 21, 'BADUM JAMES P': 21, 'HERMANN ROBERT J': 21, 'FALLON JAMES B': 21, 'GATHMANN WILLIAM D': 21, 'HORTON STANLEY C': 21, 'BOWEN JR RAYMOND M': 21, 'GILLIS JOHN': 21, 'FITZGERALD JAY L': 21, 'MORAN MICHAEL P': 21, 'REDMOND BRIAN L': 21, 'BAZELIDES PHILIP J': 21, 'BELDEN TIMOTHY N': 21, 'DIMICHELE RICHARD G': 21, 'DURAN WILLIAM D': 21, 'THORN TERENCE H': 21, 'FASTOW ANDREW S': 21, 'FOY JOE': 21, 'CALGER CHRISTOPHER F': 21, 'RICE KENNETH D': 21, 'KAMINSKI WINCENTY J': 21, 'LOCKHART EUGENE E': 21, 'COX DAVID': 21, 'OVERDYKE JR JERE C': 21, 'PEREIRA PAULO V. FERRAZ': 21, 'STABLER FRANK': 21, 'SKILLING JEFFREY K': 21, 'BLAKE JR. NORMAN P': 21, 'SHERRICK JEFFREY B': 21, 'PRENTICE JAMES': 21, 'GRAY RODNEY': 21, 'THE TRAVEL AGENCY IN THE PARK': 21, 'UMANOFF ADAM S': 21, 'KEAN STEVEN J': 21, 'TOTAL': 21, 'FOWLER PEGGY': 21, 'WASAFF GEORGE': 21, 'WHITE JR THOMAS E': 21, 'CHRISTODOULOU DIOMEDES': 21, 'ALLEN PHILLIP K': 21, 'SHARP VICTORIA T': 21, 'JAEDICKE ROBERT': 21, 'WINOKUR JR. HERBERT S': 21, 'BROWN MICHAEL': 21, 'MCCLELLAN GEORGE': 21, 'HUGHES JAMES A': 21, 'REYNOLDS LAWRENCE': 21, 'PICKERING MARK R': 21, 'BHATNAGAR SANJAY': 21, 'CARTER REBECCA C': 21, 'BUCHANAN HAROLD G': 21, 'YEAP SOON': 21, 'MURRAY JULIA H': 21, 'GARLAND C KEVIN': 21, 'DODSON KEITH': 21, 'YEAGER F SCOTT': 21, 'HIRKO JOSEPH': 21, 'DIETRICH JANET R': 21, 'DERRICK JR. JAMES V': 21, 'FREVERT MARK A': 21, 'PAI LOU L': 21, 'HAYSLETT RODERICK J': 21, 'BAY FRANKLIN R': 21, 'MCCARTY DANNY J': 21, 'FUGH JOHN L': 21, 'SCRIMSHAW MATTHEW': 21, 'KOENIG MARK E': 21, 'SAVAGE FRANK': 21, 'IZZO LAWRENCE L': 21, 'TILNEY ELIZABETH A': 21, 'MARTIN AMANDA K': 21, 'BUY RICHARD B': 21, 'GRAMM WENDY L': 21, 'CAUSEY RICHARD A': 21, 'TAYLOR MITCHELL S': 21, 'DONAHUE JR JEFFREY M': 21, 'GLISAN JR BEN F': 21}\n"
     ]
    }
   ],
   "source": [
    "# number of fratures for each person\n",
    "\n",
    "features = {}\n",
    "\n",
    "for key, value in data_dict.iteritems():\n",
    "    features[key] = len(value)\n",
    "print features"
   ]
  },
  {
   "cell_type": "code",
   "execution_count": 3,
   "metadata": {
    "collapsed": false
   },
   "outputs": [
    {
     "name": "stdout",
     "output_type": "stream",
     "text": [
      "18\n"
     ]
    }
   ],
   "source": [
    "#number of POIs in dataset\n",
    "\n",
    "count = 0\n",
    "for key in data_dict:\n",
    "    if data_dict[key]['poi']==True:\n",
    "        count+=1\n",
    "print count\n"
   ]
  },
  {
   "cell_type": "markdown",
   "metadata": {},
   "source": [
    "For begining, is needed to create feature list and clean the data from outlayers and NaN values."
   ]
  },
  {
   "cell_type": "code",
   "execution_count": 4,
   "metadata": {
    "collapsed": false
   },
   "outputs": [
    {
     "name": "stdout",
     "output_type": "stream",
     "text": [
      "{'salary': 365788, 'to_messages': 807, 'deferral_payments': 'NaN', 'total_payments': 1061827, 'exercised_stock_options': 'NaN', 'bonus': 600000, 'restricted_stock': 585062, 'shared_receipt_with_poi': 702, 'restricted_stock_deferred': 'NaN', 'total_stock_value': 585062, 'expenses': 94299, 'loan_advances': 'NaN', 'from_messages': 29, 'other': 1740, 'from_this_person_to_poi': 1, 'poi': False, 'director_fees': 'NaN', 'deferred_income': 'NaN', 'long_term_incentive': 'NaN', 'email_address': 'mark.metts@enron.com', 'from_poi_to_this_person': 38}\n"
     ]
    }
   ],
   "source": [
    "#print all features for one person to create feature list\n",
    "\n",
    "print data_dict['METTS MARK']"
   ]
  },
  {
   "cell_type": "code",
   "execution_count": 5,
   "metadata": {
    "collapsed": false
   },
   "outputs": [],
   "source": [
    "#create full feature list\n",
    "\n",
    "features_list = ['poi','bonus','salary','total_payments','deferral_payments','deferred_income',\n",
    "                 'director_fees','expenses','loan_advances','long_term_incentive','other',\n",
    "                 'restricted_stock','restricted_stock_deferred','exercised_stock_options','total_stock_value',\n",
    "                 'to_messages','from_messages','from_poi_to_this_person','from_this_person_to_poi','shared_receipt_with_poi']"
   ]
  },
  {
   "cell_type": "markdown",
   "metadata": {},
   "source": [
    "From plot there is observed an outlier which corresponeds to \"TOTAL\" and for all features we need to remove this value. "
   ]
  },
  {
   "cell_type": "code",
   "execution_count": 6,
   "metadata": {
    "collapsed": false
   },
   "outputs": [
    {
     "data": {
      "image/png": "[encoded data removed]",
      "text/plain": [
       "<matplotlib.figure.Figure at 0x91e1978>"
      ]
     },
     "metadata": {},
     "output_type": "display_data"
    }
   ],
   "source": [
    "#NaN values will be replaced with 0 and features with all 0 values will be removed\n",
    "\n",
    "data = featureFormat(data_dict, features_list, remove_NaN=True, remove_all_zeroes=True, remove_any_zeroes=False, sort_keys = True)\n",
    "\n",
    "for point in data:\n",
    "    salary = point[2]\n",
    "    bonus = point[1]\n",
    "    matplotlib.pyplot.scatter( salary, bonus )\n",
    "\n",
    "matplotlib.pyplot.xlabel(\"salary\")\n",
    "matplotlib.pyplot.ylabel(\"bonus\")\n",
    "matplotlib.pyplot.show()"
   ]
  },
  {
   "cell_type": "code",
   "execution_count": 7,
   "metadata": {
    "collapsed": false
   },
   "outputs": [
    {
     "data": {
      "image/png": "[encoded data removed]",
      "text/plain": [
       "<matplotlib.figure.Figure at 0x987a748>"
      ]
     },
     "metadata": {},
     "output_type": "display_data"
    }
   ],
   "source": [
    "# remove outliers\n",
    "\n",
    "data_dict.pop('TOTAL',0)\n",
    "\n",
    "data = featureFormat(data_dict, features_list, remove_NaN=True, remove_all_zeroes=True, remove_any_zeroes=False, sort_keys = True)\n",
    "#plot again for check\n",
    "\n",
    "for point in data:\n",
    "    salary = point[2]\n",
    "    bonus = point[1]\n",
    "    matplotlib.pyplot.scatter( salary, bonus )\n",
    "\n",
    "matplotlib.pyplot.xlabel(\"salary\")\n",
    "matplotlib.pyplot.ylabel(\"bonus\")\n",
    "matplotlib.pyplot.show()"
   ]
  },
  {
   "cell_type": "code",
   "execution_count": 8,
   "metadata": {
    "collapsed": false
   },
   "outputs": [
    {
     "name": "stdout",
     "output_type": "stream",
     "text": [
      "('total_payments', 'loan_advances')\n",
      "0.96425377599\n",
      "\n",
      "\n",
      "('total_payments', 'other')\n",
      "0.829874482789\n",
      "\n",
      "\n",
      "('loan_advances', 'total_payments')\n",
      "0.96425377599\n",
      "\n",
      "\n",
      "('other', 'total_payments')\n",
      "0.829874482789\n",
      "\n",
      "\n",
      "('exercised_stock_options', 'total_stock_value')\n",
      "0.963921426094\n",
      "\n",
      "\n",
      "('total_stock_value', 'exercised_stock_options')\n",
      "0.963921426094\n",
      "\n",
      "\n",
      "('to_messages', 'shared_receipt_with_poi')\n",
      "0.881534109523\n",
      "\n",
      "\n",
      "('shared_receipt_with_poi', 'to_messages')\n",
      "0.881534109523\n",
      "\n",
      "\n"
     ]
    }
   ],
   "source": [
    "# check features for correlation\n",
    "return_list = [] \n",
    "for feature in range(0,20):\n",
    "    tmp_list = []\n",
    "    for key in data:\n",
    "        value = key[feature]\n",
    "        tmp_list.append( float(value) )\n",
    "    return_list.append( np.array(tmp_list) )   \n",
    "\n",
    "#cor,pval  = stats.pearsonr(return_list[15],return_list[19])    \n",
    "    \n",
    "import scipy.stats as stats\n",
    "for i in range(0,20):\n",
    "    for j in range(1,20):\n",
    "        cor,pval  = stats.pearsonr(return_list[i],return_list[j])\n",
    "        if 1>cor>abs(0.8):\n",
    "            print (features_list[i], features_list[j] )\n",
    "            print cor\n",
    "            print \"\\n\"  \n"
   ]
  },
  {
   "cell_type": "markdown",
   "metadata": {},
   "source": [
    "Create feature fraction_from_poi and fraction_to_poi defined as number messages to/from POI (numerator) and number of all messages to/from a person (denominator)."
   ]
  },
  {
   "cell_type": "code",
   "execution_count": 9,
   "metadata": {
    "collapsed": false
   },
   "outputs": [],
   "source": [
    "def computeFraction( poi_messages, all_messages ):\n",
    "\n",
    "    fraction = 0.\n",
    "    \n",
    "    if poi_messages!=\"NaN\":\n",
    "        if all_messages!=\"NaN\":\n",
    "            fraction = (poi_messages*1.0)/(all_messages*1.0)\n",
    "\n",
    "        else:\n",
    "            return 0\n",
    "    else:\n",
    "        return 0\n",
    "\n",
    "    return fraction\n",
    "\n",
    "\n",
    "submit_dict = {}\n",
    "for name in data_dict:\n",
    "\n",
    "    data_point = data_dict[name]\n",
    "\n",
    "    \n",
    "    from_poi_to_this_person = data_point[\"from_poi_to_this_person\"]\n",
    "    to_messages = data_point[\"to_messages\"]\n",
    "    fraction_from_poi = computeFraction( from_poi_to_this_person, to_messages )\n",
    "    data_point[\"fraction_from_poi\"] = fraction_from_poi\n",
    "\n",
    "\n",
    "    from_this_person_to_poi = data_point[\"from_this_person_to_poi\"]\n",
    "    from_messages = data_point[\"from_messages\"]\n",
    "    fraction_to_poi = computeFraction( from_this_person_to_poi, from_messages )\n",
    "    submit_dict[name]={\"from_poi_to_this_person\":fraction_from_poi,\n",
    "                       \"from_this_person_to_poi\":fraction_to_poi}\n",
    "    data_point[\"fraction_to_poi\"] = fraction_to_poi\n",
    "    \n",
    "    \n",
    "#####################\n",
    "\n",
    "my_data = {}\n",
    "my_data.update(submit_dict)  # Modifies my_data, not data\n",
    "my_data.update(data_dict) "
   ]
  },
  {
   "cell_type": "code",
   "execution_count": 10,
   "metadata": {
    "collapsed": false
   },
   "outputs": [
    {
     "name": "stdout",
     "output_type": "stream",
     "text": [
      "145\n"
     ]
    }
   ],
   "source": [
    "features = {}\n",
    "\n",
    "for key, value in my_data.iteritems():\n",
    "    features[key] = len(value)\n",
    "print (len(features))\n"
   ]
  },
  {
   "cell_type": "markdown",
   "metadata": {},
   "source": [
    "Add new features to list and check for correlation and remove ones with correlation higher than 80%"
   ]
  },
  {
   "cell_type": "code",
   "execution_count": 11,
   "metadata": {
    "collapsed": false
   },
   "outputs": [
    {
     "name": "stdout",
     "output_type": "stream",
     "text": [
      "('total_payments', 'loan_advances')\n",
      "0.96425377599\n",
      "\n",
      "\n",
      "('total_payments', 'other')\n",
      "0.829874482789\n",
      "\n",
      "\n",
      "('loan_advances', 'total_payments')\n",
      "0.96425377599\n",
      "\n",
      "\n",
      "('other', 'total_payments')\n",
      "0.829874482789\n",
      "\n",
      "\n",
      "('exercised_stock_options', 'total_stock_value')\n",
      "0.963921426094\n",
      "\n",
      "\n",
      "('total_stock_value', 'exercised_stock_options')\n",
      "0.963921426094\n",
      "\n",
      "\n",
      "('to_messages', 'shared_receipt_with_poi')\n",
      "0.881534109523\n",
      "\n",
      "\n",
      "('shared_receipt_with_poi', 'to_messages')\n",
      "0.881534109523\n",
      "\n",
      "\n"
     ]
    }
   ],
   "source": [
    "#update features list \n",
    "\n",
    "features_list = ['poi','bonus','salary','total_payments','deferral_payments','deferred_income',\n",
    "                 'director_fees','expenses','loan_advances','long_term_incentive','other',\n",
    "                 'restricted_stock','restricted_stock_deferred','exercised_stock_options','total_stock_value',\n",
    "                 'to_messages','from_messages','from_poi_to_this_person','from_this_person_to_poi','shared_receipt_with_poi','fraction_from_poi','fraction_to_poi']\n",
    "\n",
    "data = featureFormat(my_data, features_list, remove_NaN=True, remove_all_zeroes=True, remove_any_zeroes=False, sort_keys = False)\n",
    "\n",
    "   \n",
    "return_list = [] \n",
    "for feature in range(0,22):\n",
    "    tmp_list = []\n",
    "    for key in data:\n",
    "        value = key[feature]\n",
    "        tmp_list.append( float(value) )\n",
    "    return_list.append( np.array(tmp_list) )   \n",
    "\n",
    "    \n",
    "import scipy.stats as stats\n",
    "for i in range(0,22):\n",
    "    for j in range(0,22):\n",
    "        cor,pval  = stats.pearsonr(return_list[i],return_list[j])\n",
    "        if 1>cor>abs(0.8):\n",
    "            print (features_list[i], features_list[j] )\n",
    "            print cor\n",
    "            print \"\\n\"  \n"
   ]
  },
  {
   "cell_type": "markdown",
   "metadata": {},
   "source": [
    "Can be removed 'from_poi_to_this_person','from_this_person_to_poi','to_messages','from_messages' as informaion from these variables are in newly created features, also 'exercised_stock_options', 'loan_advances', 'other' because of high correlation. Can be removed 'director_fees' as it has only 10% non 0 values and nan of them are POI."
   ]
  },
  {
   "cell_type": "code",
   "execution_count": 12,
   "metadata": {
    "collapsed": false,
    "scrolled": true
   },
   "outputs": [
    {
     "name": "stdout",
     "output_type": "stream",
     "text": [
      "('number of non0 director_fees', 16, ' number of POIs with non 0 director_fees', 0)\n"
     ]
    }
   ],
   "source": [
    "# Director fees \n",
    "\n",
    "count =0\n",
    "countP =0\n",
    "for key in my_data:\n",
    "    if my_data[key]['director_fees'] !='NaN':\n",
    "        count += 1\n",
    "        if my_data[key]['poi'] == True:\n",
    "            countP += 1\n",
    "        \n",
    "print (\"number of non0 director_fees\", count, \" number of POIs with non 0 director_fees\", countP)\n",
    "\n",
    "# Selected features list\n",
    "\n",
    "features_list = ['poi','bonus','salary','total_payments','deferral_payments','deferred_income',\n",
    "                 'expenses','long_term_incentive',\n",
    "                 'restricted_stock','restricted_stock_deferred','total_stock_value',\n",
    "                 'shared_receipt_with_poi','fraction_from_poi','fraction_to_poi']\n",
    "\n",
    "data = featureFormat(my_data, features_list, remove_NaN=True, remove_all_zeroes=True, remove_any_zeroes=False)\n",
    "labels, features = targetFeatureSplit(data)"
   ]
  },
  {
   "cell_type": "markdown",
   "metadata": {},
   "source": [
    "Pre-selected feature list is given to poi_id.py and built variety of classifyers to select the one which gives best f1 score. Tried GaussianNB, SVM, DecisionTreeClassifier and RandomForestm and used grid search to get best tuned parameters in order to get the best perfomance for each of them. There is created function which returns the best perfomance"
   ]
  },
  {
   "cell_type": "code",
   "execution_count": 16,
   "metadata": {
    "collapsed": false
   },
   "outputs": [],
   "source": [
    "#%run poi_id.py"
   ]
  },
  {
   "cell_type": "markdown",
   "metadata": {},
   "source": [
    "As a result the best perfomance is given by DecisionTreeClassifier with 12 features. \n",
    "\n",
    "**Accuracy: 0.84   Precision: 0.40   Recall: 0.49   F1: 0.44   F2: 0.47**\n",
    "\n",
    "Despite high accuracy, F1 score is less than 50%, which means that POI identification is not very reliably."
   ]
  },
  {
   "cell_type": "code",
   "execution_count": 17,
   "metadata": {
    "collapsed": false
   },
   "outputs": [
    {
     "name": "stdout",
     "output_type": "stream",
     "text": [
      "Pipeline(memory=None,\n",
      "     steps=[('scaling', MinMaxScaler(copy=True, feature_range=(0, 1))), ('reduce_dim', SelectKBest(k=12, score_func=<function f_classif at 0x000000000A614DD8>)), ('dt', DecisionTreeClassifier(class_weight=None, criterion='entropy', max_depth=2,\n",
      "            max_features=None, max_leaf_nodes=None,\n",
      "        ...      min_weight_fraction_leaf=0.0, presort=False, random_state=None,\n",
      "            splitter='best'))])\n",
      "\tAccuracy: 0.83567\tPrecision: 0.40420\tRecall: 0.49050\tF1: 0.44319\tF2: 0.47041\n",
      "\tTotal predictions: 15000\tTrue positives:  981\tFalse positives: 1446\tFalse negatives: 1019\tTrue negatives: 11554\n",
      "\n"
     ]
    }
   ],
   "source": [
    "%run tester.py"
   ]
  },
  {
   "cell_type": "code",
   "execution_count": null,
   "metadata": {
    "collapsed": true
   },
   "outputs": [],
   "source": []
  }
 ],
 "metadata": {
  "celltoolbar": "Raw Cell Format",
  "kernelspec": {
   "display_name": "Python 2",
   "language": "python",
   "name": "python2"
  },
  "language_info": {
   "codemirror_mode": {
    "name": "ipython",
    "version": 2
   },
   "file_extension": ".py",
   "mimetype": "text/x-python",
   "name": "python",
   "nbconvert_exporter": "python",
   "pygments_lexer": "ipython2",
   "version": "2.7.13"
  }
 },
 "nbformat": 4,
 "nbformat_minor": 2
}
