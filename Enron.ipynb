{
 "cells": [
  {
   "cell_type": "markdown",
   "metadata": {},
   "source": [
    "# Enron"
   ]
  },
  {
   "cell_type": "markdown",
   "metadata": {},
   "source": [
    "## Introduction"
   ]
  },
  {
   "cell_type": "markdown",
   "metadata": {},
   "source": [
    "Enron Corporation was an American energy, commodities, and services company based in Houston, Texas. It was founded in 1985 because of a merger between Houston Natural Gas and InterNorth, both relatively small regional companies. Before its bankruptcy on December 2, 2001, Enron employed approximately 20,000 staff and was one of the world's major electricity, natural gas, communications and pulp and paper companies, with claimed revenues of nearly $101 billion during 2000. Fortune named Enron \"America's Most Innovative Company\" for six consecutive years."
   ]
  },
  {
   "cell_type": "markdown",
   "metadata": {},
   "source": [
    "In this project, will be built an algorithm to identify Enron Employees who may have committed fraud based on the public Enron financial and email dataset. Identify POIs."
   ]
  },
  {
   "cell_type": "code",
   "execution_count": 1,
   "metadata": {
    "collapsed": false
   },
   "outputs": [
    {
     "name": "stderr",
     "output_type": "stream",
     "text": [
      "C:\\Users\\Pro-Pc\\Anaconda3\\envs\\py2\\lib\\site-packages\\sklearn\\cross_validation.py:41: DeprecationWarning: This module was deprecated in version 0.18 in favor of the model_selection module into which all the refactored classes and functions are moved. Also note that the interface of the new CV iterators are different from that of this module. This module will be removed in 0.20.\n",
      "  \"This module will be removed in 0.20.\", DeprecationWarning)\n"
     ]
    }
   ],
   "source": [
    "import sys\n",
    "import pickle\n",
    "import matplotlib.pyplot\n",
    "sys.path.append(\"../tools/\")\n",
    "import numpy as np \n",
    "from feature_format import featureFormat, targetFeatureSplit\n",
    "from tester import dump_classifier_and_data\n",
    "\n",
    "## Load the dictionary containing the dataset\n",
    "\n",
    "with open(\"final_project_dataset.pkl\", \"r\") as data_file:\n",
    "    data_dict = pickle.load(data_file)\n"
   ]
  },
  {
   "cell_type": "markdown",
   "metadata": {},
   "source": [
    "### Understanding the data"
   ]
  },
  {
   "cell_type": "markdown",
   "metadata": {},
   "source": [
    "Dataset contains information about 146 persons with 21 features for each person and only 18(12%) POIs form 35 in total. So there is the Class Imbalance Problem "
   ]
  },
  {
   "cell_type": "code",
   "execution_count": 2,
   "metadata": {
    "collapsed": false
   },
   "outputs": [
    {
     "name": "stdout",
     "output_type": "stream",
     "text": [
      "{'METTS MARK': 21, 'BAXTER JOHN C': 21, 'ELLIOTT STEVEN': 21, 'CORDES WILLIAM R': 21, 'HANNON KEVIN P': 21, 'MORDAUNT KRISTINA M': 21, 'MEYER ROCKFORD G': 21, 'MCMAHON JEFFREY': 21, 'HAEDICKE MARK E': 21, 'PIPER GREGORY F': 21, 'HUMPHREY GENE E': 21, 'NOLES JAMES L': 21, 'BLACHMAN JEREMY M': 21, 'SUNDE MARTIN': 21, 'GIBBS DANA R': 21, 'LOWRY CHARLES P': 21, 'COLWELL WESLEY': 21, 'MULLER MARK S': 21, 'JACKSON CHARLENE R': 21, 'WESTFAHL RICHARD K': 21, 'WALTERS GARETH W': 21, 'WALLS JR ROBERT H': 21, 'KITCHEN LOUISE': 21, 'CHAN RONNIE': 21, 'BELFER ROBERT': 21, 'SHANKMAN JEFFREY A': 21, 'WODRASKA JOHN': 21, 'BERGSIEKER RICHARD P': 21, 'URQUHART JOHN A': 21, 'BIBI PHILIPPE A': 21, 'RIEKER PAULA H': 21, 'WHALEY DAVID A': 21, 'BECK SALLY W': 21, 'HAUG DAVID L': 21, 'ECHOLS JOHN B': 21, 'MENDELSOHN JOHN': 21, 'HICKERSON GARY J': 21, 'CLINE KENNETH W': 21, 'LEWIS RICHARD': 21, 'HAYES ROBERT E': 21, 'KOPPER MICHAEL J': 21, 'LEFF DANIEL P': 21, 'LAVORATO JOHN J': 21, 'BERBERIAN DAVID': 21, 'DETMERING TIMOTHY J': 21, 'WAKEHAM JOHN': 21, 'POWERS WILLIAM': 21, 'GOLD JOSEPH': 21, 'BANNANTINE JAMES M': 21, 'DUNCAN JOHN H': 21, 'SHAPIRO RICHARD S': 21, 'SHERRIFF JOHN R': 21, 'SHELBY REX': 21, 'LEMAISTRE CHARLES': 21, 'DEFFNER JOSEPH M': 21, 'KISHKILL JOSEPH G': 21, 'WHALLEY LAWRENCE G': 21, 'PIRO JIM': 21, 'MCCONNELL MICHAEL S': 21, 'DELAINEY DAVID W': 21, 'SULLIVAN-SHAKLOVITZ COLLEEN': 21, 'WROBEL BRUCE': 21, 'LINDHOLM TOD A': 21, 'MEYER JEROME J': 21, 'LAY KENNETH L': 21, 'BUTTS ROBERT H': 21, 'OLSON CINDY K': 21, 'MCDONALD REBECCA': 21, 'CUMBERLAND MICHAEL S': 21, 'GAHN ROBERT S': 21, 'BADUM JAMES P': 21, 'HERMANN ROBERT J': 21, 'FALLON JAMES B': 21, 'GATHMANN WILLIAM D': 21, 'HORTON STANLEY C': 21, 'BOWEN JR RAYMOND M': 21, 'GILLIS JOHN': 21, 'FITZGERALD JAY L': 21, 'MORAN MICHAEL P': 21, 'REDMOND BRIAN L': 21, 'BAZELIDES PHILIP J': 21, 'BELDEN TIMOTHY N': 21, 'DIMICHELE RICHARD G': 21, 'DURAN WILLIAM D': 21, 'THORN TERENCE H': 21, 'FASTOW ANDREW S': 21, 'FOY JOE': 21, 'CALGER CHRISTOPHER F': 21, 'RICE KENNETH D': 21, 'KAMINSKI WINCENTY J': 21, 'LOCKHART EUGENE E': 21, 'COX DAVID': 21, 'OVERDYKE JR JERE C': 21, 'PEREIRA PAULO V. FERRAZ': 21, 'STABLER FRANK': 21, 'SKILLING JEFFREY K': 21, 'BLAKE JR. NORMAN P': 21, 'SHERRICK JEFFREY B': 21, 'PRENTICE JAMES': 21, 'GRAY RODNEY': 21, 'THE TRAVEL AGENCY IN THE PARK': 21, 'UMANOFF ADAM S': 21, 'KEAN STEVEN J': 21, 'TOTAL': 21, 'FOWLER PEGGY': 21, 'WASAFF GEORGE': 21, 'WHITE JR THOMAS E': 21, 'CHRISTODOULOU DIOMEDES': 21, 'ALLEN PHILLIP K': 21, 'SHARP VICTORIA T': 21, 'JAEDICKE ROBERT': 21, 'WINOKUR JR. HERBERT S': 21, 'BROWN MICHAEL': 21, 'MCCLELLAN GEORGE': 21, 'HUGHES JAMES A': 21, 'REYNOLDS LAWRENCE': 21, 'PICKERING MARK R': 21, 'BHATNAGAR SANJAY': 21, 'CARTER REBECCA C': 21, 'BUCHANAN HAROLD G': 21, 'YEAP SOON': 21, 'MURRAY JULIA H': 21, 'GARLAND C KEVIN': 21, 'DODSON KEITH': 21, 'YEAGER F SCOTT': 21, 'HIRKO JOSEPH': 21, 'DIETRICH JANET R': 21, 'DERRICK JR. JAMES V': 21, 'FREVERT MARK A': 21, 'PAI LOU L': 21, 'HAYSLETT RODERICK J': 21, 'BAY FRANKLIN R': 21, 'MCCARTY DANNY J': 21, 'FUGH JOHN L': 21, 'SCRIMSHAW MATTHEW': 21, 'KOENIG MARK E': 21, 'SAVAGE FRANK': 21, 'IZZO LAWRENCE L': 21, 'TILNEY ELIZABETH A': 21, 'MARTIN AMANDA K': 21, 'BUY RICHARD B': 21, 'GRAMM WENDY L': 21, 'CAUSEY RICHARD A': 21, 'TAYLOR MITCHELL S': 21, 'DONAHUE JR JEFFREY M': 21, 'GLISAN JR BEN F': 21}\n"
     ]
    }
   ],
   "source": [
    "# number of fratures for each person\n",
    "\n",
    "features = {}\n",
    "\n",
    "for key, value in data_dict.iteritems():\n",
    "    features[key] = len(value)\n",
    "print features"
   ]
  },
  {
   "cell_type": "code",
   "execution_count": 3,
   "metadata": {
    "collapsed": false
   },
   "outputs": [
    {
     "name": "stdout",
     "output_type": "stream",
     "text": [
      "18\n"
     ]
    }
   ],
   "source": [
    "#number of POIs in dataset\n",
    "\n",
    "count = 0\n",
    "for key in data_dict:\n",
    "    if data_dict[key]['poi']==True:\n",
    "        count+=1\n",
    "print count\n"
   ]
  },
  {
   "cell_type": "markdown",
   "metadata": {},
   "source": [
    "### Feature Pre-selection"
   ]
  },
  {
   "cell_type": "markdown",
   "metadata": {},
   "source": [
    "For begining, is needed to create feature list and clean the data from outlayers and NaN values."
   ]
  },
  {
   "cell_type": "code",
   "execution_count": 4,
   "metadata": {
    "collapsed": false
   },
   "outputs": [
    {
     "name": "stdout",
     "output_type": "stream",
     "text": [
      "{'salary': 365788, 'to_messages': 807, 'deferral_payments': 'NaN', 'total_payments': 1061827, 'exercised_stock_options': 'NaN', 'bonus': 600000, 'restricted_stock': 585062, 'shared_receipt_with_poi': 702, 'restricted_stock_deferred': 'NaN', 'total_stock_value': 585062, 'expenses': 94299, 'loan_advances': 'NaN', 'from_messages': 29, 'other': 1740, 'from_this_person_to_poi': 1, 'poi': False, 'director_fees': 'NaN', 'deferred_income': 'NaN', 'long_term_incentive': 'NaN', 'email_address': 'mark.metts@enron.com', 'from_poi_to_this_person': 38}\n"
     ]
    }
   ],
   "source": [
    "#print all features for one person to create feature list\n",
    "\n",
    "print data_dict['METTS MARK']"
   ]
  },
  {
   "cell_type": "code",
   "execution_count": 5,
   "metadata": {
    "collapsed": false
   },
   "outputs": [],
   "source": [
    "#create full feature list\n",
    "\n",
    "features_list = ['poi','bonus','salary','total_payments','deferral_payments','deferred_income',\n",
    "                 'director_fees','expenses','loan_advances','long_term_incentive','other',\n",
    "                 'restricted_stock','restricted_stock_deferred','exercised_stock_options','total_stock_value',\n",
    "                 'to_messages','from_messages','from_poi_to_this_person','from_this_person_to_poi','shared_receipt_with_poi']"
   ]
  },
  {
   "cell_type": "markdown",
   "metadata": {},
   "source": [
    "From plot there is observed an outlier which corresponeds to \"TOTAL\" and for all features we need to remove this value. Also THE TRAVEL AGENCY IN THE PARK does not seem to be a person. In featureFormat function remove_NaN=True replaces NaNs with 0. and remove_all_zeroes=True will omit any data points for which\n",
    "all the features you seek are 0.0"
   ]
  },
  {
   "cell_type": "code",
   "execution_count": 6,
   "metadata": {
    "collapsed": false
   },
   "outputs": [
    {
     "data": {
      "image/png": "[encoded data removed]",
      "text/plain": [
       "<matplotlib.figure.Figure at 0x8da7a58>"
      ]
     },
     "metadata": {},
     "output_type": "display_data"
    }
   ],
   "source": [
    "#NaN values will be replaced with 0 and features with all 0 values will be removed\n",
    "\n",
    "data = featureFormat(data_dict, features_list, remove_NaN=True, remove_all_zeroes=True, remove_any_zeroes=False, sort_keys = True)\n",
    "\n",
    "for point in data:\n",
    "    salary = point[2]\n",
    "    bonus = point[1]\n",
    "    matplotlib.pyplot.scatter( salary, bonus )\n",
    "\n",
    "matplotlib.pyplot.xlabel(\"salary\")\n",
    "matplotlib.pyplot.ylabel(\"bonus\")\n",
    "matplotlib.pyplot.show()"
   ]
  },
  {
   "cell_type": "markdown",
   "metadata": {},
   "source": [
    "It seems there was one person with all NaN values as from 146 person left 145."
   ]
  },
  {
   "cell_type": "code",
   "execution_count": 7,
   "metadata": {
    "collapsed": false
   },
   "outputs": [
    {
     "name": "stdout",
     "output_type": "stream",
     "text": [
      "145\n"
     ]
    }
   ],
   "source": [
    "print len(data)"
   ]
  },
  {
   "cell_type": "code",
   "execution_count": 8,
   "metadata": {
    "collapsed": false
   },
   "outputs": [
    {
     "data": {
      "image/png": "[encoded data removed]",
      "text/plain": [
       "<matplotlib.figure.Figure at 0x9441c50>"
      ]
     },
     "metadata": {},
     "output_type": "display_data"
    }
   ],
   "source": [
    "# remove outliers\n",
    "\n",
    "data_dict.pop('TOTAL',0)\n",
    "data_dict.pop('THE TRAVEL AGENCY IN THE PARK',0)\n",
    "data_dict.pop('LOCKHART EUGENE E',0)\n",
    "\n",
    "data = featureFormat(data_dict, features_list, remove_NaN=True, remove_all_zeroes=True, remove_any_zeroes=False, sort_keys = True)\n",
    "#plot again for check\n",
    "\n",
    "for point in data:\n",
    "    salary = point[2]\n",
    "    bonus = point[1]\n",
    "    matplotlib.pyplot.scatter( salary, bonus )\n",
    "\n",
    "matplotlib.pyplot.xlabel(\"salary\")\n",
    "matplotlib.pyplot.ylabel(\"bonus\")\n",
    "matplotlib.pyplot.show()"
   ]
  },
  {
   "cell_type": "code",
   "execution_count": 9,
   "metadata": {
    "collapsed": false
   },
   "outputs": [
    {
     "name": "stdout",
     "output_type": "stream",
     "text": [
      "('total_payments', 'loan_advances')\n",
      "0.964305357071\n",
      "\n",
      "\n",
      "('total_payments', 'other')\n",
      "0.830105039798\n",
      "\n",
      "\n",
      "('loan_advances', 'total_payments')\n",
      "0.964305357071\n",
      "\n",
      "\n",
      "('other', 'total_payments')\n",
      "0.830105039798\n",
      "\n",
      "\n",
      "('exercised_stock_options', 'total_stock_value')\n",
      "0.96387437986\n",
      "\n",
      "\n",
      "('total_stock_value', 'exercised_stock_options')\n",
      "0.96387437986\n",
      "\n",
      "\n",
      "('to_messages', 'shared_receipt_with_poi')\n",
      "0.881262542007\n",
      "\n",
      "\n",
      "('shared_receipt_with_poi', 'to_messages')\n",
      "0.881262542007\n",
      "\n",
      "\n"
     ]
    }
   ],
   "source": [
    "# check features for correlation\n",
    "return_list = [] \n",
    "for feature in range(0,20):\n",
    "    tmp_list = []\n",
    "    for key in data:\n",
    "        value = key[feature]\n",
    "        tmp_list.append( float(value) )\n",
    "    return_list.append( np.array(tmp_list) )   \n",
    "\n",
    "#cor,pval  = stats.pearsonr(return_list[15],return_list[19])    \n",
    "    \n",
    "import scipy.stats as stats\n",
    "for i in range(0,20):\n",
    "    for j in range(1,20):\n",
    "        cor,pval  = stats.pearsonr(return_list[i],return_list[j])\n",
    "        if 1>cor>abs(0.8):\n",
    "            print (features_list[i], features_list[j] )\n",
    "            print cor\n",
    "            print \"\\n\"  \n"
   ]
  },
  {
   "cell_type": "markdown",
   "metadata": {},
   "source": [
    "Create feature fraction_from_poi and fraction_to_poi defined as number messages to/from POI (numerator) and number of all messages to/from a person (denominator). The reason of creating these features is that POIs may be exchanging emails between each other more frequently than other people. Its interesting to know what percentage of total emails send/revived to/from POI. "
   ]
  },
  {
   "cell_type": "code",
   "execution_count": 10,
   "metadata": {
    "collapsed": false
   },
   "outputs": [],
   "source": [
    "def computeFraction( poi_messages, all_messages ):\n",
    "\n",
    "    fraction = 0.\n",
    "    \n",
    "    if poi_messages!=\"NaN\":\n",
    "        if all_messages!=\"NaN\":\n",
    "            fraction = (poi_messages*1.0)/(all_messages*1.0)\n",
    "\n",
    "        else:\n",
    "            return 0\n",
    "    else:\n",
    "        return 0\n",
    "\n",
    "    return fraction\n",
    "\n",
    "\n",
    "submit_dict = {}\n",
    "for name in data_dict:\n",
    "\n",
    "    data_point = data_dict[name]\n",
    "\n",
    "    \n",
    "    from_poi_to_this_person = data_point[\"from_poi_to_this_person\"]\n",
    "    to_messages = data_point[\"to_messages\"]\n",
    "    fraction_from_poi = computeFraction( from_poi_to_this_person, to_messages )\n",
    "    data_point[\"fraction_from_poi\"] = fraction_from_poi\n",
    "\n",
    "\n",
    "    from_this_person_to_poi = data_point[\"from_this_person_to_poi\"]\n",
    "    from_messages = data_point[\"from_messages\"]\n",
    "    fraction_to_poi = computeFraction( from_this_person_to_poi, from_messages )\n",
    "    submit_dict[name]={\"from_poi_to_this_person\":fraction_from_poi,\n",
    "                       \"from_this_person_to_poi\":fraction_to_poi}\n",
    "    data_point[\"fraction_to_poi\"] = fraction_to_poi\n",
    "    \n",
    "    \n",
    "#####################\n",
    "\n",
    "my_data = {}\n",
    "my_data.update(submit_dict)  # Modifies my_data, not data\n",
    "my_data.update(data_dict) "
   ]
  },
  {
   "cell_type": "code",
   "execution_count": 11,
   "metadata": {
    "collapsed": false
   },
   "outputs": [
    {
     "name": "stdout",
     "output_type": "stream",
     "text": [
      "143\n"
     ]
    }
   ],
   "source": [
    "features = {}\n",
    "\n",
    "for key, value in my_data.iteritems():\n",
    "    features[key] = len(value)\n",
    "print (len(features))\n"
   ]
  },
  {
   "cell_type": "markdown",
   "metadata": {},
   "source": [
    "First look at all features original full list plus newly created. Check for correlation and remove ones with correlation higher than 80%. "
   ]
  },
  {
   "cell_type": "code",
   "execution_count": 12,
   "metadata": {
    "collapsed": false
   },
   "outputs": [
    {
     "name": "stdout",
     "output_type": "stream",
     "text": [
      "('total_payments', 'loan_advances')\n",
      "0.964305357071\n",
      "\n",
      "\n",
      "('total_payments', 'other')\n",
      "0.830105039798\n",
      "\n",
      "\n",
      "('loan_advances', 'total_payments')\n",
      "0.964305357071\n",
      "\n",
      "\n",
      "('other', 'total_payments')\n",
      "0.830105039798\n",
      "\n",
      "\n",
      "('exercised_stock_options', 'total_stock_value')\n",
      "0.96387437986\n",
      "\n",
      "\n",
      "('total_stock_value', 'exercised_stock_options')\n",
      "0.96387437986\n",
      "\n",
      "\n",
      "('to_messages', 'shared_receipt_with_poi')\n",
      "0.881262542007\n",
      "\n",
      "\n",
      "('shared_receipt_with_poi', 'to_messages')\n",
      "0.881262542007\n",
      "\n",
      "\n"
     ]
    }
   ],
   "source": [
    "#update features list \n",
    "\n",
    "features_list = ['poi','bonus','salary','total_payments','deferral_payments','deferred_income',\n",
    "                 'director_fees','expenses','loan_advances','long_term_incentive','other',\n",
    "                 'restricted_stock','restricted_stock_deferred','exercised_stock_options','total_stock_value',\n",
    "                 'to_messages','from_messages','from_poi_to_this_person','from_this_person_to_poi','shared_receipt_with_poi','fraction_from_poi','fraction_to_poi']\n",
    "\n",
    "data = featureFormat(my_data, features_list, remove_NaN=True, remove_all_zeroes=True, remove_any_zeroes=False, sort_keys = False)\n",
    "\n",
    "   \n",
    "return_list = [] \n",
    "for feature in range(0,22):\n",
    "    tmp_list = []\n",
    "    for key in data:\n",
    "        value = key[feature]\n",
    "        tmp_list.append( float(value) )\n",
    "    return_list.append( np.array(tmp_list) )   \n",
    "\n",
    "    \n",
    "import scipy.stats as stats\n",
    "for i in range(0,22):\n",
    "    for j in range(0,22):\n",
    "        cor,pval  = stats.pearsonr(return_list[i],return_list[j])\n",
    "        if 1>cor>abs(0.8):\n",
    "            print (features_list[i], features_list[j] )\n",
    "            print cor\n",
    "            print \"\\n\"  \n"
   ]
  },
  {
   "cell_type": "markdown",
   "metadata": {},
   "source": [
    "create two sets of feature list: one including user created variables and one without these variables.\n",
    "In feature list without user created (original) variables:\n",
    "Can be removed 'shared_receipt_with_poi','exercised_stock_options', 'loan_advances', 'other' because of high correlation.\n",
    "In feature list with user created variables:\n",
    "Can be removed 'from_poi_to_this_person','from_this_person_to_poi','to_messages','from_messages' as informaion from these variables are in newly created features, also 'exercised_stock_options', 'loan_advances', 'other' because of high correlation. "
   ]
  },
  {
   "cell_type": "markdown",
   "metadata": {},
   "source": [
    "## Building algorithm"
   ]
  },
  {
   "cell_type": "code",
   "execution_count": 13,
   "metadata": {
    "collapsed": true
   },
   "outputs": [],
   "source": [
    "# Selected features list without user created variables\n",
    "features_list_orig = ['poi','bonus','salary','total_payments','deferral_payments','deferred_income',\n",
    "                 'director_fees','expenses','long_term_incentive',\n",
    "                 'restricted_stock','restricted_stock_deferred','total_stock_value',\n",
    "                 'to_messages','from_messages','from_poi_to_this_person','from_this_person_to_poi']\n",
    "\n",
    "data_orig = featureFormat(data_dict, features_list, remove_NaN=True, remove_all_zeroes=True, remove_any_zeroes=False, sort_keys = False)\n",
    "labels_orig, features_orig = targetFeatureSplit(data_orig)"
   ]
  },
  {
   "cell_type": "code",
   "execution_count": 14,
   "metadata": {
    "collapsed": false,
    "scrolled": true
   },
   "outputs": [],
   "source": [
    "# Selected features list\n",
    "\n",
    "features_list = ['poi','bonus','salary','total_payments','deferral_payments','deferred_income',\n",
    "                 'expenses','long_term_incentive',\n",
    "                 'restricted_stock','restricted_stock_deferred','total_stock_value',\n",
    "                 'shared_receipt_with_poi','fraction_from_poi','fraction_to_poi','director_fees']\n",
    "\n",
    "data = featureFormat(my_data, features_list, remove_NaN=True, remove_all_zeroes=True, remove_any_zeroes=False)\n",
    "labels, features = targetFeatureSplit(data)"
   ]
  },
  {
   "cell_type": "markdown",
   "metadata": {},
   "source": [
    "Pre-selected feature list is given to poi_id.py and built variety of classifyers to select the one which gives best f1 score. Tried GaussianNB, SVM, DecisionTreeClassifier and RandomForestm and used grid search to get best tuned parameters in order to get the best perfomance for each of them. There is created function which returns the best perfomance.\n"
   ]
  },
  {
   "cell_type": "markdown",
   "metadata": {},
   "source": [
    "###   Feature selection\n",
    "\n",
    "**SelectKBest**\n",
    "Select features according to the k highest scores. Parameters are **score_func:** Function taking two arrays X and y, and returning a pair of arrays (scores, pvalues) or a single array with scores in this case is used ch2 and **k:** Number of top features to select. In this case is tested different number of features."
   ]
  },
  {
   "cell_type": "code",
   "execution_count": 15,
   "metadata": {
    "collapsed": false
   },
   "outputs": [],
   "source": [
    "# PCA\n",
    "from sklearn.decomposition import PCA\n",
    "\n",
    "pca=PCA()\n",
    "\n",
    "# KBest\n",
    "from sklearn.feature_selection import SelectKBest\n",
    "\n",
    "skb = SelectKBest()"
   ]
  },
  {
   "cell_type": "markdown",
   "metadata": {},
   "source": [
    "###   Feature scaling\n",
    "**MinMaxScaler** is used for scaling features. It transforms features by scaling each feature to a given range.\n",
    "This estimator scales and translates each feature individually such that it is in the given range on the training set, i.e. between zero and one. The main parameter is **feature_range** : tuple (min, max), default=(0, 1)"
   ]
  },
  {
   "cell_type": "code",
   "execution_count": 16,
   "metadata": {
    "collapsed": false
   },
   "outputs": [],
   "source": [
    "# MinMaxScaler\n",
    "from sklearn.preprocessing import MinMaxScaler\n",
    "\n",
    "scaler = MinMaxScaler()\n",
    "features=scaler.fit_transform(features)"
   ]
  },
  {
   "cell_type": "markdown",
   "metadata": {},
   "source": [
    "###   Classification algorithms\n",
    "\n",
    "**Gaussian Naive Bayes (GaussianNB)**\n",
    "\n",
    "Naive Bayes methods are a set of supervised learning algorithms based on applying Bayes’ theorem with the “naive” assumption of independence between every pair of features.For GaussianNB the likelihood of the features is assumed to be Gaussian.\n",
    "\n",
    "**Support vector machines (SVMs)**\n",
    "\n",
    "The SVMs are a set of supervised learning methods used for classification, regression and outliers detection. Used C-Support Vector Classification. **Parameters used:** C : Penalty parameter C of the error term. **kernel :**  ‘poly’ and ‘rbf’. \n",
    "\n",
    "**Decision Trees (DTs)**\n",
    "\n",
    "DTs are a non-parametric supervised learning method used for classification and regression. The goal is to create a model that predicts the value of a target variable by learning simple decision rules inferred from the data features. **Parameters used:** **criterion :** The function to measure the quality of a split. Supported criteria are “gini” for the Gini impurity and “entropy” for the information gain. **min_samples_split :** The minimum number of samples required to split an internal node. **max_depth :** The maximum depth of the tree. If None, then nodes are expanded until all leaves are pure or until all leaves contain less than min_samples_split samples.\n",
    "\n",
    "**Ensemble methods**\n",
    "\n",
    "The goal of ensemble methods is to combine the predictions of several base estimators built with a given learning algorithm in order to improve generalizability / robustness over a single estimator.\n",
    "Two families of ensemble methods are usually distinguished:\n",
    "In averaging methods, the driving principle is to build several estimators independently and then to average their predictions. On average, the combined estimator is usually better than any of the single base estimator because its variance is reduced. By contrast, in boosting methods, base estimators are built sequentially and one tries to reduce the bias of the combined estimator. The motivation is to combine several weak models to produce a powerful ensemble. In this case is used ** Forests of randomized trees** and **AdaBoost**. \n",
    "\n",
    "** Forests of randomized trees**\n",
    "The **RandomForest** algorithm is perturb-and-combine techniques specifically designed for trees. This means a diverse set of classifiers is created by introducing randomness in the classifier construction. The prediction of the ensemble is given as the averaged prediction of the individual classifiers. A random forest is a meta estimator that fits a number of decision tree classifiers on various sub-samples of the dataset and use averaging to improve the predictive accuracy and control over-fitting. **Parameters used:** **n_estimators :** The number of trees in the forest. **criterion** , **min_samples_split**,  **max_depth ** (for definitions see **Decision Trees**).\n",
    "\n",
    "**AdaBoost**\n",
    "The core principle of **AdaBoost** is to fit a sequence of weak learners (i.e., models that are only slightly better than random guessing, such as small decision trees) on repeatedly modified versions of the data. The predictions from all of them are then combined through a weighted majority vote (or sum) to produce the final prediction. **Parameters used:** **\n",
    "n_estimators :** The maximum number of estimators at which boosting is terminated. In case of perfect fit, the learning procedure is stopped early.\n",
    "\n",
    ">**Parameters used:** Means that various values is tested for these parameters, rest use default settings in the other word these are parameters which are tuned\n"
   ]
  },
  {
   "cell_type": "code",
   "execution_count": 17,
   "metadata": {
    "collapsed": false
   },
   "outputs": [],
   "source": [
    "# NaiveBayes\n",
    "from sklearn.naive_bayes import GaussianNB\n",
    "\n",
    "nb_clf = GaussianNB()\n",
    "\n",
    "# SVM\n",
    "from sklearn.svm import SVC\n",
    "\n",
    "svm_clf = SVC()\n",
    "\n",
    "# DecisionTree\n",
    "from sklearn.tree import DecisionTreeClassifier\n",
    "\n",
    "dt_clf = DecisionTreeClassifier()\n",
    "\n",
    "# RandomForest\n",
    "from sklearn.ensemble import RandomForestClassifier\n",
    "\n",
    "rf_clf = RandomForestClassifier()\n",
    "\n",
    "# AdaBoost\n",
    "from sklearn.ensemble import AdaBoostClassifier\n",
    "\n",
    "ab_clf = AdaBoostClassifier()\n"
   ]
  },
  {
   "cell_type": "markdown",
   "metadata": {
    "collapsed": true
   },
   "source": [
    "## The Best Algorithm Selection and Parameters Tuning \n",
    "\n",
    "Different model training algorithms require different hyperparameters, some simple algorithms require none. Hyperparameters are parameters whose values are set before the learning process begins and their optimization or tuning is the problem of choosing a set of optimal hyperparameters for a learning algorithm. Usually a metric is chosen to measure the algorithm's performance on an independent data set and hyperparameters that maximize this measure are adopted. The cross-validation is process where a trained model is evaluated with a testing data set. The testing data set is a separate portion of the same data set from which the training set is derived. The main purpose of using the testing data set is to test the generalization ability of a trained model and is used to estimate this generalization performance. \n",
    "**GridSearchCV** is used for exhaustive search over specified parameter values for an estimator. GridSearchCV implements a “fit” and a “score” method. It also implements “predict”, “predict_proba”, “decision_function”, “transform” and “inverse_transform” if they are implemented in the estimator used. The parameters of the estimator used to apply these methods are optimized by cross-validated grid-search over a parameter grid. \n",
    "**Pipeline** of transforms with a final estimator is also used in **GridSearch**. It sequentially applies a list of transforms and a final estimator. The purpose of the pipeline is to assemble several steps that can be cross-validated together while setting different parameters.\n"
   ]
  },
  {
   "cell_type": "markdown",
   "metadata": {},
   "source": [
    "The define which is the best from all five algorithm with best tuned parameters from grid search is compared one by one to clearly see the deferences between the results."
   ]
  },
  {
   "cell_type": "code",
   "execution_count": 18,
   "metadata": {
    "collapsed": false
   },
   "outputs": [],
   "source": [
    "from sklearn.cross_validation import StratifiedShuffleSplit, train_test_split, cross_val_score\n",
    "\n",
    "# With user created variables\n",
    "sk_fold = StratifiedShuffleSplit(labels, 100, random_state = 42)\n",
    "\n",
    "# Without user created variables\n",
    "sk_fold_orig = StratifiedShuffleSplit(labels_orig, 100, random_state = 42)\n",
    "\n",
    "# Having handle to validation scores\n",
    "from sklearn.metrics import (precision_score, recall_score,f1_score)\n",
    "\n",
    "# pipelines and grid serch\n",
    "from sklearn.pipeline import Pipeline\n",
    "\n",
    "from sklearn.model_selection import GridSearchCV\n",
    "\n"
   ]
  },
  {
   "cell_type": "markdown",
   "metadata": {},
   "source": [
    "### NaiveBayes"
   ]
  },
  {
   "cell_type": "code",
   "execution_count": 19,
   "metadata": {
    "collapsed": false
   },
   "outputs": [
    {
     "name": "stdout",
     "output_type": "stream",
     "text": [
      "Fitting 100 folds for each of 9 candidates, totalling 900 fits\n"
     ]
    },
    {
     "name": "stderr",
     "output_type": "stream",
     "text": [
      "C:\\Users\\Pro-Pc\\Anaconda3\\envs\\py2\\lib\\site-packages\\sklearn\\metrics\\classification.py:1135: UndefinedMetricWarning: F-score is ill-defined and being set to 0.0 due to no predicted samples.\n",
      "  'precision', 'predicted', average, warn_for)\n"
     ]
    },
    {
     "name": "stdout",
     "output_type": "stream",
     "text": [
      "Pipeline(memory=None,\n",
      "     steps=[('scaling', MinMaxScaler(copy=True, feature_range=(0, 1))), ('reduce_dim', SelectKBest(k=12, score_func=<function f_classif at 0x000000000A26D7B8>)), ('nb', GaussianNB(priors=None))])\n",
      "('best_score_ :', 0.36109701409701417)\n"
     ]
    },
    {
     "name": "stderr",
     "output_type": "stream",
     "text": [
      "[Parallel(n_jobs=1)]: Done 900 out of 900 | elapsed:    4.7s finished\n"
     ]
    }
   ],
   "source": [
    "pipeline_nb = Pipeline(steps=[('scaling',scaler),('reduce_dim', skb), (\"nb\", nb_clf)])\n",
    "    \n",
    "parameters_nb = {\n",
    "'reduce_dim__k': range(5,14),\n",
    "    }\n",
    "\n",
    "gs_nb = GridSearchCV(pipeline_nb, parameters_nb, verbose=1, cv=sk_fold, scoring = 'f1')\n",
    "gs_nb.fit((features), (labels))\n",
    "        \n",
    "print gs_nb.best_estimator_ \n",
    "\n",
    "print (\"best_score_ :\", gs_nb.best_score_)"
   ]
  },
  {
   "cell_type": "markdown",
   "metadata": {},
   "source": [
    "### SVM"
   ]
  },
  {
   "cell_type": "code",
   "execution_count": 20,
   "metadata": {
    "collapsed": false
   },
   "outputs": [
    {
     "name": "stdout",
     "output_type": "stream",
     "text": [
      "Fitting 100 folds for each of 72 candidates, totalling 7200 fits\n",
      "Pipeline(memory=None,\n",
      "     steps=[('scaling', MinMaxScaler(copy=True, feature_range=(0, 1))), ('reduce_dim', SelectKBest(k=13, score_func=<function f_classif at 0x000000000A26D7B8>)), ('svm', SVC(C=10000, cache_size=200, class_weight=None, coef0=0.0,\n",
      "  decision_function_shape='ovr', degree=3, gamma='auto', kernel='rbf',\n",
      "  max_iter=-1, probability=False, random_state=None, shrinking=True,\n",
      "  tol=0.001, verbose=False))])\n",
      "('best_score_ :', 0.23785714285714285)\n"
     ]
    },
    {
     "name": "stderr",
     "output_type": "stream",
     "text": [
      "[Parallel(n_jobs=1)]: Done 7200 out of 7200 | elapsed:  1.0min finished\n"
     ]
    }
   ],
   "source": [
    "pipeline_svm = Pipeline(steps=[('scaling',scaler),('reduce_dim', skb),('svm', svm_clf)])\n",
    "    \n",
    "parameters_svm = {\n",
    "    'svm__C': [1., 10, 100, 10000],\n",
    "    'svm__kernel': ['rbf', 'poly'],\n",
    "    'reduce_dim__k': range(5,14),\n",
    "    }\n",
    "\n",
    "gs_svm = GridSearchCV(pipeline_svm, parameters_svm, verbose=1, cv=sk_fold, scoring = 'f1')\n",
    "gs_svm.fit((features), (labels))\n",
    "        \n",
    "print gs_svm.best_estimator_ \n",
    "\n",
    "print (\"best_score_ :\", gs_svm.best_score_)\n",
    "    "
   ]
  },
  {
   "cell_type": "markdown",
   "metadata": {},
   "source": [
    "### DecisionTree"
   ]
  },
  {
   "cell_type": "code",
   "execution_count": 21,
   "metadata": {
    "collapsed": false
   },
   "outputs": [
    {
     "name": "stdout",
     "output_type": "stream",
     "text": [
      "Fitting 100 folds for each of 360 candidates, totalling 36000 fits\n",
      "Pipeline(memory=None,\n",
      "     steps=[('scaling', MinMaxScaler(copy=True, feature_range=(0, 1))), ('reduce_dim', SelectKBest(k=11, score_func=<function f_classif at 0x000000000A26D7B8>)), ('dt', DecisionTreeClassifier(class_weight=None, criterion='entropy', max_depth=2,\n",
      "            max_features=None, max_leaf_nodes=None,\n",
      "        ...      min_weight_fraction_leaf=0.0, presort=False, random_state=None,\n",
      "            splitter='best'))])\n",
      "('best_score_ :', 0.39166666666666666)\n"
     ]
    },
    {
     "name": "stderr",
     "output_type": "stream",
     "text": [
      "[Parallel(n_jobs=1)]: Done 36000 out of 36000 | elapsed:  3.9min finished\n"
     ]
    }
   ],
   "source": [
    "#With user created variables\n",
    "pipeline_dt = Pipeline(steps=[('scaling',scaler),('reduce_dim', skb), ('dt', dt_clf)])\n",
    "    \n",
    "parameters_dt = {\n",
    "    'dt__criterion': ['gini', 'entropy'],\n",
    "    'dt__min_samples_split': [2, 3, 4, 5],\n",
    "    'dt__max_depth': [None, 2, 5, 7, 10],\n",
    "    'reduce_dim__k': range(5,14),\n",
    "    }\n",
    "\n",
    "gs_dt = GridSearchCV(pipeline_dt, parameters_dt, verbose=1, cv=sk_fold, scoring = 'f1')\n",
    "gs_dt.fit((features), (labels))\n",
    "        \n",
    "print gs_dt.best_estimator_ \n",
    "\n",
    "print (\"best_score_ :\", gs_dt.best_score_)"
   ]
  },
  {
   "cell_type": "code",
   "execution_count": 22,
   "metadata": {
    "collapsed": false
   },
   "outputs": [
    {
     "name": "stdout",
     "output_type": "stream",
     "text": [
      "Fitting 100 folds for each of 440 candidates, totalling 44000 fits\n",
      "Pipeline(memory=None,\n",
      "     steps=[('scaling', MinMaxScaler(copy=True, feature_range=(0, 1))), ('reduce_dim', SelectKBest(k=15, score_func=<function f_classif at 0x000000000A26D7B8>)), ('dt', DecisionTreeClassifier(class_weight=None, criterion='entropy', max_depth=5,\n",
      "            max_features=None, max_leaf_nodes=None,\n",
      "        ...      min_weight_fraction_leaf=0.0, presort=False, random_state=None,\n",
      "            splitter='best'))])\n",
      "('best_score_ :', 0.40000000000000002)\n"
     ]
    },
    {
     "name": "stderr",
     "output_type": "stream",
     "text": [
      "[Parallel(n_jobs=1)]: Done 44000 out of 44000 | elapsed:  4.9min finished\n"
     ]
    }
   ],
   "source": [
    "#Without user created variables\n",
    "pipeline_dt = Pipeline(steps=[('scaling',scaler),('reduce_dim', skb), ('dt', dt_clf)])\n",
    "    \n",
    "parameters_dt = {\n",
    "    'dt__criterion': ['gini', 'entropy'],\n",
    "    'dt__min_samples_split': [2, 3, 4, 5],\n",
    "    'dt__max_depth': [None, 2, 5, 7, 10],\n",
    "    'reduce_dim__k': range(5,16),\n",
    "    }\n",
    "\n",
    "gs_dt_orig = GridSearchCV(pipeline_dt, parameters_dt, verbose=1, cv=sk_fold_orig, scoring = 'f1')\n",
    "gs_dt_orig.fit((features_orig), (labels_orig))\n",
    "        \n",
    "print gs_dt_orig.best_estimator_ \n",
    "\n",
    "print (\"best_score_ :\", gs_dt_orig.best_score_)"
   ]
  },
  {
   "cell_type": "markdown",
   "metadata": {},
   "source": [
    "### RandomForest"
   ]
  },
  {
   "cell_type": "code",
   "execution_count": 23,
   "metadata": {
    "collapsed": false
   },
   "outputs": [
    {
     "name": "stdout",
     "output_type": "stream",
     "text": [
      "Fitting 100 folds for each of 864 candidates, totalling 86400 fits\n",
      "Pipeline(memory=None,\n",
      "     steps=[('scaling', MinMaxScaler(copy=True, feature_range=(0, 1))), ('reduce_dim', SelectKBest(k=13, score_func=<function f_classif at 0x000000000A26D7B8>)), ('rf', RandomForestClassifier(bootstrap=True, class_weight=None, criterion='entropy',\n",
      "            max_depth=None, max_features='auto', max_leaf...n_jobs=1,\n",
      "            oob_score=False, random_state=None, verbose=0,\n",
      "            warm_start=False))])\n",
      "('best_score_ :', 0.31338095238095237)\n"
     ]
    },
    {
     "name": "stderr",
     "output_type": "stream",
     "text": [
      "[Parallel(n_jobs=1)]: Done 86400 out of 86400 | elapsed: 43.1min finished\n"
     ]
    }
   ],
   "source": [
    "pipeline_rf = Pipeline(steps=[('scaling',scaler),('reduce_dim', skb), ('rf', rf_clf)])\n",
    "    \n",
    "parameters_rf = {\n",
    "    'rf__n_estimators': [5, 7, 10, 14],\n",
    "    'rf__criterion': ['gini', 'entropy'],\n",
    "    'rf__min_samples_split': [2, 5, 10],\n",
    "    'rf__max_depth': [None, 2, 5, 10],    \n",
    "    'reduce_dim__k': range(5,14),\n",
    "    }\n",
    "\n",
    "gs_rf = GridSearchCV(pipeline_rf, parameters_rf, verbose=1, cv=sk_fold, scoring = 'f1')\n",
    "gs_rf.fit((features), (labels))\n",
    "        \n",
    "print gs_rf.best_estimator_ \n",
    "\n",
    "print (\"best_score_ :\", gs_rf.best_score_)"
   ]
  },
  {
   "cell_type": "markdown",
   "metadata": {},
   "source": [
    "### AdaBoost"
   ]
  },
  {
   "cell_type": "code",
   "execution_count": 24,
   "metadata": {
    "collapsed": false
   },
   "outputs": [
    {
     "name": "stdout",
     "output_type": "stream",
     "text": [
      "Fitting 100 folds for each of 27 candidates, totalling 2700 fits\n"
     ]
    },
    {
     "name": "stderr",
     "output_type": "stream",
     "text": [
      "[Parallel(n_jobs=1)]: Done 2700 out of 2700 | elapsed:  6.5min finished\n"
     ]
    },
    {
     "name": "stdout",
     "output_type": "stream",
     "text": [
      "Pipeline(memory=None,\n",
      "     steps=[('scaling', MinMaxScaler(copy=True, feature_range=(0, 1))), ('reduce_dim', SelectKBest(k=10, score_func=<function f_classif at 0x000000000A26D7B8>)), ('ab', AdaBoostClassifier(algorithm='SAMME.R', base_estimator=None,\n",
      "          learning_rate=1.0, n_estimators=100, random_state=None))])\n",
      "('best_score_ :', 0.315)\n"
     ]
    }
   ],
   "source": [
    "pipeline_ada = Pipeline(steps=[('scaling',scaler),('reduce_dim', skb), ('ab', ab_clf)])\n",
    "    \n",
    "parameters_ada = {\n",
    "    'ab__n_estimators': [25, 50, 100],\n",
    "    'reduce_dim__k': range(5,14),\n",
    "    }\n",
    "    \n",
    "gs_ada = GridSearchCV(pipeline_ada, parameters_ada, verbose=1, cv=sk_fold, scoring = 'f1')\n",
    "gs_ada.fit((features), (labels))\n",
    "        \n",
    "print gs_ada.best_estimator_ \n",
    "\n",
    "print (\"best_score_ :\", gs_ada.best_score_)\n",
    "           "
   ]
  },
  {
   "cell_type": "code",
   "execution_count": null,
   "metadata": {
    "collapsed": false
   },
   "outputs": [],
   "source": []
  },
  {
   "cell_type": "markdown",
   "metadata": {
    "collapsed": true
   },
   "source": [
    "###  cross-validation\n",
    "\n",
    "Stratified **ShuffleSplit** cross-validator is used, which provides train/test indices to split data in train/test sets.\n",
    "This cross-validation object is a merge of StratifiedKFold and ShuffleSplit, which returns stratified randomized folds. The folds are made by preserving the percentage of samples for each class. Stratification is the process of rearranging the data as to ensure each fold is a good representative of the whole. **Parameters used:** **y**-labels of samples.\n",
    "**n_iter** -Number of re-shuffling and splitting iterations.  **random_state**-If int, random_state is the seed used by the random number generator."
   ]
  },
  {
   "cell_type": "markdown",
   "metadata": {},
   "source": [
    "The function below split the sample to train/test sets and checks performance of classifier"
   ]
  },
  {
   "cell_type": "code",
   "execution_count": 25,
   "metadata": {
    "collapsed": false
   },
   "outputs": [],
   "source": [
    "PERF_FORMAT_STRING = \"\\\n",
    "\\tAccuracy: {:>0.{display_precision}f}\\tPrecision: {:>0.{display_precision}f}\\t\\\n",
    "Recall: {:>0.{display_precision}f}\\tF1: {:>0.{display_precision}f}\\tF2: {:>0.{display_precision}f}\"\n",
    "RESULTS_FORMAT_STRING = \"\\tTotal predictions: {:4d}\\tTrue positives: {:4d}\\tFalse positives: {:4d}\\\n",
    "\\tFalse negatives: {:4d}\\tTrue negatives: {:4d}\"\n",
    "\n",
    "def test_classifier(clf, data, feature_list, folds = 1000):\n",
    "    #data = featureFormat(dataset, feature_list, sort_keys = True)\n",
    "    labels, features = targetFeatureSplit(data)\n",
    "    cv = StratifiedShuffleSplit(labels, folds, random_state = 42)  \n",
    "    true_negatives = 0\n",
    "    false_negatives = 0\n",
    "    true_positives = 0\n",
    "    false_positives = 0\n",
    "    for train_idx, test_idx in sk_fold: \n",
    "        features_train = []\n",
    "        features_test  = []\n",
    "        labels_train   = []\n",
    "        labels_test    = []\n",
    "        for ii in train_idx:\n",
    "            features_train.append( features[ii] )\n",
    "            labels_train.append( labels[ii] )\n",
    "        for jj in test_idx:\n",
    "            features_test.append( features[jj] )\n",
    "            labels_test.append( labels[jj] )\n",
    "        \n",
    "        ### fit the classifier using training set, and test on test set\n",
    "        clf.fit(features_train, labels_train)\n",
    "        predictions = clf.predict(features_test)\n",
    "        \n",
    "        for prediction, truth in zip(predictions, labels_test):\n",
    "            if prediction == 0 and truth == 0:\n",
    "                true_negatives += 1              \n",
    "            elif prediction == 0 and truth == 1:\n",
    "                false_negatives += 1\n",
    "            elif prediction == 1 and truth == 0:\n",
    "                false_positives += 1\n",
    "            elif prediction == 1 and truth == 1:\n",
    "                true_positives += 1\n",
    "            else:\n",
    "                print \"Warning: Found a predicted label not == 0 or 1.\"\n",
    "                print \"All predictions should take value 0 or 1.\"\n",
    "                print \"Evaluating performance for processed predictions:\"\n",
    "                break\n",
    "                \n",
    "    try:\n",
    "        total_predictions = true_negatives + false_negatives + false_positives + true_positives\n",
    "        accuracy = 1.0*(true_positives + true_negatives)/total_predictions\n",
    "        precision = 1.0*true_positives/(true_positives+false_positives)\n",
    "        recall = 1.0*true_positives/(true_positives+false_negatives)\n",
    "        f1 = 2.0 * true_positives/(2*true_positives + false_positives+false_negatives)\n",
    "        f2 = (1+2.0*2.0) * precision*recall/(4*precision + recall)\n",
    "        print clf\n",
    "        print PERF_FORMAT_STRING.format(accuracy, precision, recall, f1, f2, display_precision = 5)\n",
    "        print RESULTS_FORMAT_STRING.format(total_predictions, true_positives, false_positives, false_negatives, true_negatives)\n",
    "        print \"\"\n",
    "    except:\n",
    "        print \"Got a divide by zero when trying out:\", clf\n",
    "        print \"Precision or recall may be undefined due to a lack of true positive predicitons.\""
   ]
  },
  {
   "cell_type": "markdown",
   "metadata": {},
   "source": [
    "Check perfomance of  NaiveBayes, DecisionTree and AdaBoos, as ther best scores are close to each other. (see above)"
   ]
  },
  {
   "cell_type": "code",
   "execution_count": 26,
   "metadata": {
    "collapsed": false
   },
   "outputs": [
    {
     "name": "stdout",
     "output_type": "stream",
     "text": [
      "Pipeline(memory=None,\n",
      "     steps=[('scaling', MinMaxScaler(copy=True, feature_range=(0, 1))), ('reduce_dim', SelectKBest(k=12, score_func=<function f_classif at 0x000000000A26D7B8>)), ('nb', GaussianNB(priors=None))])\n",
      "\tAccuracy: 0.56067\tPrecision: 0.21491\tRecall: 0.86500\tF1: 0.34428\tF2: 0.53894\n",
      "\tTotal predictions: 1500\tTrue positives:  173\tFalse positives:  632\tFalse negatives:   27\tTrue negatives:  668\n",
      "\n"
     ]
    }
   ],
   "source": [
    "test_classifier(gs_nb.best_estimator_  , data, features_list, folds = 1000)"
   ]
  },
  {
   "cell_type": "markdown",
   "metadata": {},
   "source": [
    "As shown below tunde parameters with original feature set is different but F1 score is higher with the set including user selected variables. As final set of features the one using user created variables is selected."
   ]
  },
  {
   "cell_type": "code",
   "execution_count": 27,
   "metadata": {
    "collapsed": false
   },
   "outputs": [
    {
     "name": "stdout",
     "output_type": "stream",
     "text": [
      "Pipeline(memory=None,\n",
      "     steps=[('scaling', MinMaxScaler(copy=True, feature_range=(0, 1))), ('reduce_dim', SelectKBest(k=11, score_func=<function f_classif at 0x000000000A26D7B8>)), ('dt', DecisionTreeClassifier(class_weight=None, criterion='entropy', max_depth=2,\n",
      "            max_features=None, max_leaf_nodes=None,\n",
      "        ...      min_weight_fraction_leaf=0.0, presort=False, random_state=None,\n",
      "            splitter='best'))])\n",
      "\tAccuracy: 0.83800\tPrecision: 0.41296\tRecall: 0.51000\tF1: 0.45638\tF2: 0.48711\n",
      "\tTotal predictions: 1500\tTrue positives:  102\tFalse positives:  145\tFalse negatives:   98\tTrue negatives: 1155\n",
      "\n"
     ]
    },
    {
     "data": {
      "text/plain": [
       "DecisionTreeClassifier(class_weight=None, criterion='entropy', max_depth=2,\n",
       "            max_features=None, max_leaf_nodes=None,\n",
       "            min_impurity_decrease=0.0, min_impurity_split=None,\n",
       "            min_samples_leaf=1, min_samples_split=2,\n",
       "            min_weight_fraction_leaf=0.0, presort=False, random_state=None,\n",
       "            splitter='best')"
      ]
     },
     "execution_count": 27,
     "metadata": {},
     "output_type": "execute_result"
    }
   ],
   "source": [
    "# With user created featue set\n",
    "test_classifier(gs_dt.best_estimator_  , data, features_list, folds = 1000)\n",
    "gs_dt.best_estimator_.steps[2][1]"
   ]
  },
  {
   "cell_type": "code",
   "execution_count": 28,
   "metadata": {
    "collapsed": false
   },
   "outputs": [
    {
     "name": "stdout",
     "output_type": "stream",
     "text": [
      "Pipeline(memory=None,\n",
      "     steps=[('scaling', MinMaxScaler(copy=True, feature_range=(0, 1))), ('reduce_dim', SelectKBest(k=15, score_func=<function f_classif at 0x000000000A26D7B8>)), ('dt', DecisionTreeClassifier(class_weight=None, criterion='entropy', max_depth=5,\n",
      "            max_features=None, max_leaf_nodes=None,\n",
      "        ...      min_weight_fraction_leaf=0.0, presort=False, random_state=None,\n",
      "            splitter='best'))])\n",
      "\tAccuracy: 0.84733\tPrecision: 0.42328\tRecall: 0.40000\tF1: 0.41131\tF2: 0.40445\n",
      "\tTotal predictions: 1500\tTrue positives:   80\tFalse positives:  109\tFalse negatives:  120\tTrue negatives: 1191\n",
      "\n"
     ]
    },
    {
     "data": {
      "text/plain": [
       "DecisionTreeClassifier(class_weight=None, criterion='entropy', max_depth=5,\n",
       "            max_features=None, max_leaf_nodes=None,\n",
       "            min_impurity_decrease=0.0, min_impurity_split=None,\n",
       "            min_samples_leaf=1, min_samples_split=3,\n",
       "            min_weight_fraction_leaf=0.0, presort=False, random_state=None,\n",
       "            splitter='best')"
      ]
     },
     "execution_count": 28,
     "metadata": {},
     "output_type": "execute_result"
    }
   ],
   "source": [
    "# original featue set\n",
    "test_classifier(gs_dt_orig.best_estimator_  , data_orig, features_list_orig, folds = 1000)\n",
    "gs_dt_orig.best_estimator_.steps[2][1]"
   ]
  },
  {
   "cell_type": "code",
   "execution_count": 29,
   "metadata": {
    "collapsed": false
   },
   "outputs": [
    {
     "name": "stdout",
     "output_type": "stream",
     "text": [
      "Pipeline(memory=None,\n",
      "     steps=[('scaling', MinMaxScaler(copy=True, feature_range=(0, 1))), ('reduce_dim', SelectKBest(k=10, score_func=<function f_classif at 0x000000000A26D7B8>)), ('ab', AdaBoostClassifier(algorithm='SAMME.R', base_estimator=None,\n",
      "          learning_rate=1.0, n_estimators=100, random_state=None))])\n",
      "\tAccuracy: 0.85200\tPrecision: 0.42143\tRecall: 0.29500\tF1: 0.34706\tF2: 0.31383\n",
      "\tTotal predictions: 1500\tTrue positives:   59\tFalse positives:   81\tFalse negatives:  141\tTrue negatives: 1219\n",
      "\n"
     ]
    }
   ],
   "source": [
    "test_classifier(gs_ada.best_estimator_  , data, features_list, folds = 1000)"
   ]
  },
  {
   "cell_type": "markdown",
   "metadata": {},
   "source": [
    "As a result the best perfomance is given by DecisionTreeClassifier with 12 features. Presented list of final selected features with their importance k best and DecisionTree. The created variable fraction_from_poi is in the final feature list."
   ]
  },
  {
   "cell_type": "code",
   "execution_count": 30,
   "metadata": {
    "collapsed": false
   },
   "outputs": [
    {
     "name": "stdout",
     "output_type": "stream",
     "text": [
      "('poi', 3.2001180371896341e-05)\n",
      "('bonus', 3.1275207924891641e-05)\n",
      "('salary', 0.0034921520690395277)\n",
      "('deferral_payments', 0.68377293511464798)\n",
      "('deferred_income', 0.010085033773645459)\n",
      "('expenses', 0.057702561238666773)\n",
      "('long_term_incentive', 0.0076260532052459173)\n",
      "('restricted_stock_deferred', 0.0028746715404537539)\n",
      "('total_stock_value', 0.75002695370502681)\n",
      "('shared_receipt_with_poi', 3.0718610875263968e-06)\n",
      "('fraction_from_poi', 0.0079445345883141817)\n"
     ]
    }
   ],
   "source": [
    "##k best\n",
    "\n",
    "mask=gs_dt.best_estimator_.steps[1][1].get_support()\n",
    "new_features = [] # The list of your K best features\n",
    "\n",
    "for bool, feature in zip(mask, features_list):\n",
    "    if bool:\n",
    "        new_features.append(feature)\n",
    "\n",
    "#print selected features and their scores\n",
    "for i in range(0,len(new_features)):        \n",
    "    print (new_features[i], gs_dt.best_estimator_.named_steps['reduce_dim'].pvalues_[i] )\n"
   ]
  },
  {
   "cell_type": "markdown",
   "metadata": {},
   "source": [
    "Finally the best perfomance shown by DecisionTree with k=10 variables, containing created.\n",
    "Was tested variables in range 5 to 15, i.e at least 5 features to full feature list. \n",
    "\n",
    "The best 10 variable list with their scores:\n",
    "\n",
    "('poi', 11.129479151071294)\n",
    "('bonus', 11.196268305382173)\n",
    "('salary', 2.7678986261219913)\n",
    "('deferral_payments', 5.3040593155079989)\n",
    "('deferred_income', 5.9062230784659526)\n",
    "('expenses', 2.611274332028505)\n",
    "('long_term_incentive', 6.5769490767620624)\n",
    "('restricted_stock_deferred', 14.691308652557398)\n",
    "('total_stock_value', 5.495321379933408)\n",
    "('fraction_from_poi', 8.2430164382598381)\n",
    "\n",
    "\n",
    "**Accuracy: 0.84   Precision: 0.40   Recall: 0.49   F1: 0.44   F2: 0.47**\n",
    "\n",
    "Precision: 0.40 means that only in 40% cases our prediction is truly POI and the rest 60% is the false alarm. Recall: is a ratio of  truely predicted positive and real number of positives  in the other words our prediction is correctly identifying POIs only in 49% cases. F1 score is a measure of a test's accuracy and it is 44% in this case. According these numbers identifing of POIs is not possible with good pressision."
   ]
  },
  {
   "cell_type": "code",
   "execution_count": 31,
   "metadata": {
    "collapsed": false
   },
   "outputs": [
    {
     "name": "stdout",
     "output_type": "stream",
     "text": [
      "('poi', 11.129479151071294)\n",
      "('bonus', 11.196268305382173)\n",
      "('salary', 2.7678986261219913)\n",
      "('deferral_payments', 5.3040593155079989)\n",
      "('deferred_income', 5.9062230784659526)\n",
      "('expenses', 2.611274332028505)\n",
      "('long_term_incentive', 6.5769490767620624)\n",
      "('restricted_stock_deferred', 14.691308652557398)\n",
      "('total_stock_value', 5.495321379933408)\n",
      "('fraction_from_poi', 8.2430164382598381)\n",
      "Pipeline(memory=None,\n",
      "     steps=[('scaling', MinMaxScaler(copy=True, feature_range=(0, 1))), ('reduce_dim', SelectKBest(k=10, score_func=<function f_classif at 0x000000000A26D7B8>)), ('dt', DecisionTreeClassifier(class_weight=None, criterion='entropy', max_depth=2,\n",
      "            max_features=None, max_leaf_nodes=None,\n",
      "        ...      min_weight_fraction_leaf=0.0, presort=False, random_state=None,\n",
      "            splitter='best'))])\n",
      "\tAccuracy: 0.83480\tPrecision: 0.40285\tRecall: 0.49550\tF1: 0.44439\tF2: 0.47371\n",
      "\tTotal predictions: 15000\tTrue positives:  991\tFalse positives: 1469\tFalse negatives: 1009\tTrue negatives: 11531\n",
      "\n"
     ]
    }
   ],
   "source": [
    "%run tester.py"
   ]
  }
 ],
 "metadata": {
  "celltoolbar": "Raw Cell Format",
  "kernelspec": {
   "display_name": "Python 2",
   "language": "python",
   "name": "python2"
  },
  "language_info": {
   "codemirror_mode": {
    "name": "ipython",
    "version": 2
   },
   "file_extension": ".py",
   "mimetype": "text/x-python",
   "name": "python",
   "nbconvert_exporter": "python",
   "pygments_lexer": "ipython2",
   "version": "2.7.13"
  }
 },
 "nbformat": 4,
 "nbformat_minor": 2
}
